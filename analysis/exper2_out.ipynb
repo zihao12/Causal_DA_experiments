{
 "cells": [
  {
   "cell_type": "code",
   "execution_count": 1,
   "id": "c23db4a8",
   "metadata": {},
   "outputs": [],
   "source": [
    "import pickle\n",
    "import pdb\n",
    "from matplotlib import pyplot as plt\n",
    "import numpy as np\n",
    "from matplotlib.backends.backend_pdf import PdfPages\n",
    "\n",
    "outdir = \"../output\"\n",
    "i = 0\n",
    "maxiter=800\n",
    "anneal=200\n",
    "\n",
    "for j in range(2, 7):\n",
    "    weight = 10**j\n",
    "    for method in [\"irm\", \"girm\", \"erm\"]:\n",
    "        if method == \"erm\":\n",
    "            filename=f\"{outdir}/{method}{i}_maxiter{maxiter}.pkl\"\n",
    "            figname=f\"{outdir}/{method}{i}_maxiter{maxiter}.pdf\"\n",
    "        else:  \n",
    "            filename=f\"{outdir}/{method}{i}_maxiter{maxiter}_anneal{anneal}_weight{weight}.pkl\"\n",
    "            figname=f\"{outdir}/{method}{i}_maxiter{maxiter}_anneal{anneal}_weight{weight}.pdf\"\n",
    "\n",
    "        with open(filename, \"rb\") as f:\n",
    "            out = pickle.load(f)\n",
    "\n",
    "        epochs = [i for i in range(len(out[\"test_accs\"]))]\n",
    "\n",
    "        alpha = 0.3\n",
    "        s = 1\n",
    "        with PdfPages(figname) as pdf:\n",
    "            plt.figure(figsize=(8, 3))\n",
    "            plt.scatter(epochs, out[\"test_accs\"], c = \"blue\", alpha=alpha, s = s, label = \"test\")\n",
    "            plt.scatter(epochs, out[\"train1_accs\"], c = \"orange\", alpha=alpha, s = s, label = \"train1\")\n",
    "            plt.scatter(epochs, out[\"train2_accs\"], c= \"green\", alpha=alpha, s = s, label = \"train2\")\n",
    "            plt.xlabel(\"epoch\")\n",
    "            plt.ylabel(\"acc\")\n",
    "            plt.legend(loc=\"upper right\", markerscale=2,scatterpoints=1, fontsize=10)\n",
    "            plt.title('accuracy')\n",
    "            pdf.savefig()  # saves the current figure into a pdf page\n",
    "            plt.close()\n",
    "\n",
    "            plt.figure(figsize=(8, 3))\n",
    "            penalties_irm = [sum(x) for x in out[\"penalties_irm\"]]\n",
    "            penalties_girm = [sum(x) for x in out[\"penalties_girm\"]]\n",
    "            plt.scatter(epochs, np.log10(penalties_irm), c = \"blue\", alpha=alpha, s = s, label = \"irm\")\n",
    "            plt.scatter(epochs, np.log10(penalties_girm), c = \"red\", alpha=alpha, s = s, label = \"girm\")\n",
    "            plt.xlabel(\"epoch\")\n",
    "            plt.ylabel(\"penalty (log10)\")\n",
    "            plt.legend(loc=\"upper right\", markerscale=2,scatterpoints=1, fontsize=10)\n",
    "\n",
    "            plt.title('penalties')\n",
    "            pdf.savefig()  # saves the current figure into a pdf page\n",
    "            plt.close()\n"
   ]
  }
 ],
 "metadata": {
  "kernelspec": {
   "display_name": "Python 3 (ipykernel)",
   "language": "python",
   "name": "python3"
  },
  "language_info": {
   "codemirror_mode": {
    "name": "ipython",
    "version": 3
   },
   "file_extension": ".py",
   "mimetype": "text/x-python",
   "name": "python",
   "nbconvert_exporter": "python",
   "pygments_lexer": "ipython3",
   "version": "3.9.7"
  }
 },
 "nbformat": 4,
 "nbformat_minor": 5
}
